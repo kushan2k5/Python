{
 "cells": [
  {
   "cell_type": "markdown",
   "id": "4d6cc8f4",
   "metadata": {},
   "source": [
    "# Spotify Data Analysis\n",
    "\n",
    "This notebook explores a Spotify dataset using the Pandas library. It demonstrates how to clean, manipulate, and analyze music streaming data to uncover patterns and insights about song popularity, duration, and more."
   ]
  },
  {
   "cell_type": "code",
   "execution_count": null,
   "id": "2e8c9960",
   "metadata": {},
   "outputs": [],
   "source": [
    "import pandas as pd\n",
    "import matplotlib.pyplot as plt\n",
    "import seaborn as sb"
   ]
  },
  {
   "cell_type": "code",
   "execution_count": null,
   "id": "cbc9b35f",
   "metadata": {},
   "outputs": [],
   "source": [
    "df = pd.read_csv('SpotifyFeatures.csv',encoding = \"unicode escape\")"
   ]
  },
  {
   "cell_type": "code",
   "execution_count": null,
   "id": "3ed52215",
   "metadata": {},
   "outputs": [],
   "source": [
    "df.shape"
   ]
  },
  {
   "cell_type": "code",
   "execution_count": null,
   "id": "deb84e70",
   "metadata": {},
   "outputs": [],
   "source": [
    "a = np.array{1,2,3,4,5,6,7,8,9,11,2,2,454,3,45465,3,44,5,77,55,66,66}"
   ]
  },
  {
   "cell_type": "code",
   "execution_count": null,
   "id": "0fca35c1",
   "metadata": {},
   "outputs": [],
   "source": [
    "print(a)"
   ]
  },
  {
   "cell_type": "code",
   "execution_count": null,
   "id": "1d85e3ba",
   "metadata": {},
   "outputs": [],
   "source": []
  },
  {
   "cell_type": "markdown",
   "id": "790f6706",
   "metadata": {},
   "source": [
    "### Conclusion\n",
    "\n",
    "The analysis provided a deeper understanding of trends in Spotify data, such as factors that affect song popularity, the distribution of audio features, and durations. Pandas proves to be a powerful tool for such explorations."
   ]
  }
 ],
 "metadata": {
  "kernelspec": {
   "display_name": "Python 3 (ipykernel)",
   "language": "python",
   "name": "python3"
  },
  "language_info": {
   "codemirror_mode": {
    "name": "ipython",
    "version": 3
   },
   "file_extension": ".py",
   "mimetype": "text/x-python",
   "name": "python",
   "nbconvert_exporter": "python",
   "pygments_lexer": "ipython3",
   "version": "3.11.3"
  }
 },
 "nbformat": 4,
 "nbformat_minor": 5
}
