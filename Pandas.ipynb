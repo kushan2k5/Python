{
 "cells": [
  {
   "cell_type": "markdown",
   "id": "ef807afc",
   "metadata": {},
   "source": [
    "# Exploring Data with Pandas\n",
    "\n",
    "This notebook serves as a practical introduction to the Pandas library in Python. It walks through key functionalities such as reading data, filtering, grouping, and basic data manipulation techniques."
   ]
  },
  {
   "cell_type": "code",
   "execution_count": 2,
   "id": "5d42ee56",
   "metadata": {},
   "outputs": [],
   "source": [
    "import pandas as pd\n",
    "import numpy as np"
   ]
  },
  {
   "cell_type": "code",
   "execution_count": 19,
   "id": "0b7afae3",
   "metadata": {},
   "outputs": [],
   "source": [
    "df = pd.read_csv(\"Diwali Sales Data.csv\",encoding =\"unicode_escape\")"
   ]
  },
  {
   "cell_type": "code",
   "execution_count": 20,
   "id": "3cc26218",
   "metadata": {},
   "outputs": [
    {
     "data": {
      "text/plain": [
       "<bound method DataFrame.info of        User_ID    Cust_name Product_ID Gender Age Group  Age  Marital_Status  \\\n",
       "0      1002903    Sanskriti  P00125942      F     26-35   28               0   \n",
       "1      1000732       Kartik  P00110942      F     26-35   35               1   \n",
       "2      1001990        Bindu  P00118542      F     26-35   35               1   \n",
       "3      1001425       Sudevi  P00237842      M      0-17   16               0   \n",
       "4      1000588         Joni  P00057942      M     26-35   28               1   \n",
       "...        ...          ...        ...    ...       ...  ...             ...   \n",
       "11246  1000695      Manning  P00296942      M     18-25   19               1   \n",
       "11247  1004089  Reichenbach  P00171342      M     26-35   33               0   \n",
       "11248  1001209        Oshin  P00201342      F     36-45   40               0   \n",
       "11249  1004023       Noonan  P00059442      M     36-45   37               0   \n",
       "11250  1002744      Brumley  P00281742      F     18-25   19               0   \n",
       "\n",
       "                State      Zone       Occupation Product_Category  Orders  \\\n",
       "0         Maharashtra   Western       Healthcare             Auto       1   \n",
       "1      Andhra Pradesh  Southern             Govt             Auto       3   \n",
       "2       Uttar Pradesh   Central       Automobile             Auto       3   \n",
       "3           Karnataka  Southern     Construction             Auto       2   \n",
       "4             Gujarat   Western  Food Processing             Auto       2   \n",
       "...               ...       ...              ...              ...     ...   \n",
       "11246     Maharashtra   Western         Chemical           Office       4   \n",
       "11247         Haryana  Northern       Healthcare       Veterinary       3   \n",
       "11248  Madhya Pradesh   Central          Textile           Office       4   \n",
       "11249       Karnataka  Southern      Agriculture           Office       3   \n",
       "11250     Maharashtra   Western       Healthcare           Office       3   \n",
       "\n",
       "        Amount  Status  unnamed1  \n",
       "0      23952.0     NaN       NaN  \n",
       "1      23934.0     NaN       NaN  \n",
       "2      23924.0     NaN       NaN  \n",
       "3      23912.0     NaN       NaN  \n",
       "4      23877.0     NaN       NaN  \n",
       "...        ...     ...       ...  \n",
       "11246    370.0     NaN       NaN  \n",
       "11247    367.0     NaN       NaN  \n",
       "11248    213.0     NaN       NaN  \n",
       "11249    206.0     NaN       NaN  \n",
       "11250    188.0     NaN       NaN  \n",
       "\n",
       "[11251 rows x 15 columns]>"
      ]
     },
     "execution_count": 20,
     "metadata": {},
     "output_type": "execute_result"
    }
   ],
   "source": [
    "df.info"
   ]
  },
  {
   "cell_type": "code",
   "execution_count": 21,
   "id": "45704b0e",
   "metadata": {},
   "outputs": [
    {
     "data": {
      "text/plain": [
       "(11251, 15)"
      ]
     },
     "execution_count": 21,
     "metadata": {},
     "output_type": "execute_result"
    }
   ],
   "source": [
    "df.shape"
   ]
  },
  {
   "cell_type": "code",
   "execution_count": 22,
   "id": "5e79c542",
   "metadata": {},
   "outputs": [
    {
     "ename": "AttributeError",
     "evalue": "'DataFrame' object has no attribute 'show'",
     "output_type": "error",
     "traceback": [
      "\u001b[1;31m---------------------------------------------------------------------------\u001b[0m",
      "\u001b[1;31mAttributeError\u001b[0m                            Traceback (most recent call last)",
      "Cell \u001b[1;32mIn[22], line 1\u001b[0m\n\u001b[1;32m----> 1\u001b[0m df\u001b[38;5;241m.\u001b[39mshow\n",
      "File \u001b[1;32m~\\anaconda3\\Lib\\site-packages\\pandas\\core\\generic.py:5902\u001b[0m, in \u001b[0;36mNDFrame.__getattr__\u001b[1;34m(self, name)\u001b[0m\n\u001b[0;32m   5895\u001b[0m \u001b[38;5;28;01mif\u001b[39;00m (\n\u001b[0;32m   5896\u001b[0m     name \u001b[38;5;129;01mnot\u001b[39;00m \u001b[38;5;129;01min\u001b[39;00m \u001b[38;5;28mself\u001b[39m\u001b[38;5;241m.\u001b[39m_internal_names_set\n\u001b[0;32m   5897\u001b[0m     \u001b[38;5;129;01mand\u001b[39;00m name \u001b[38;5;129;01mnot\u001b[39;00m \u001b[38;5;129;01min\u001b[39;00m \u001b[38;5;28mself\u001b[39m\u001b[38;5;241m.\u001b[39m_metadata\n\u001b[0;32m   5898\u001b[0m     \u001b[38;5;129;01mand\u001b[39;00m name \u001b[38;5;129;01mnot\u001b[39;00m \u001b[38;5;129;01min\u001b[39;00m \u001b[38;5;28mself\u001b[39m\u001b[38;5;241m.\u001b[39m_accessors\n\u001b[0;32m   5899\u001b[0m     \u001b[38;5;129;01mand\u001b[39;00m \u001b[38;5;28mself\u001b[39m\u001b[38;5;241m.\u001b[39m_info_axis\u001b[38;5;241m.\u001b[39m_can_hold_identifiers_and_holds_name(name)\n\u001b[0;32m   5900\u001b[0m ):\n\u001b[0;32m   5901\u001b[0m     \u001b[38;5;28;01mreturn\u001b[39;00m \u001b[38;5;28mself\u001b[39m[name]\n\u001b[1;32m-> 5902\u001b[0m \u001b[38;5;28;01mreturn\u001b[39;00m \u001b[38;5;28mobject\u001b[39m\u001b[38;5;241m.\u001b[39m\u001b[38;5;21m__getattribute__\u001b[39m(\u001b[38;5;28mself\u001b[39m, name)\n",
      "\u001b[1;31mAttributeError\u001b[0m: 'DataFrame' object has no attribute 'show'"
     ]
    }
   ],
   "source": [
    "df.show"
   ]
  },
  {
   "cell_type": "code",
   "execution_count": 26,
   "id": "9f32a725",
   "metadata": {},
   "outputs": [
    {
     "data": {
      "text/html": [
       "<div>\n",
       "<style scoped>\n",
       "    .dataframe tbody tr th:only-of-type {\n",
       "        vertical-align: middle;\n",
       "    }\n",
       "\n",
       "    .dataframe tbody tr th {\n",
       "        vertical-align: top;\n",
       "    }\n",
       "\n",
       "    .dataframe thead th {\n",
       "        text-align: right;\n",
       "    }\n",
       "</style>\n",
       "<table border=\"1\" class=\"dataframe\">\n",
       "  <thead>\n",
       "    <tr style=\"text-align: right;\">\n",
       "      <th></th>\n",
       "      <th>User_ID</th>\n",
       "      <th>Cust_name</th>\n",
       "      <th>Product_ID</th>\n",
       "      <th>Gender</th>\n",
       "      <th>Age Group</th>\n",
       "      <th>Age</th>\n",
       "      <th>Marital_Status</th>\n",
       "      <th>State</th>\n",
       "      <th>Zone</th>\n",
       "      <th>Occupation</th>\n",
       "      <th>Product_Category</th>\n",
       "      <th>Orders</th>\n",
       "      <th>Amount</th>\n",
       "      <th>Status</th>\n",
       "      <th>unnamed1</th>\n",
       "    </tr>\n",
       "  </thead>\n",
       "  <tbody>\n",
       "    <tr>\n",
       "      <th>0</th>\n",
       "      <td>1002903</td>\n",
       "      <td>Sanskriti</td>\n",
       "      <td>P00125942</td>\n",
       "      <td>F</td>\n",
       "      <td>26-35</td>\n",
       "      <td>28</td>\n",
       "      <td>0</td>\n",
       "      <td>Maharashtra</td>\n",
       "      <td>Western</td>\n",
       "      <td>Healthcare</td>\n",
       "      <td>Auto</td>\n",
       "      <td>1</td>\n",
       "      <td>23952.0</td>\n",
       "      <td>NaN</td>\n",
       "      <td>NaN</td>\n",
       "    </tr>\n",
       "  </tbody>\n",
       "</table>\n",
       "</div>"
      ],
      "text/plain": [
       "   User_ID  Cust_name Product_ID Gender Age Group  Age  Marital_Status  \\\n",
       "0  1002903  Sanskriti  P00125942      F     26-35   28               0   \n",
       "\n",
       "         State     Zone  Occupation Product_Category  Orders   Amount  Status  \\\n",
       "0  Maharashtra  Western  Healthcare             Auto       1  23952.0     NaN   \n",
       "\n",
       "   unnamed1  \n",
       "0       NaN  "
      ]
     },
     "execution_count": 26,
     "metadata": {},
     "output_type": "execute_result"
    }
   ],
   "source": [
    "df.head(1)"
   ]
  },
  {
   "cell_type": "code",
   "execution_count": 30,
   "id": "3c4b7c19",
   "metadata": {},
   "outputs": [],
   "source": [
    "#sort values\n",
    "\n",
    "df.sort_values(by = 'Cust_name',inplace = True)"
   ]
  },
  {
   "cell_type": "code",
   "execution_count": 31,
   "id": "6aa485a9",
   "metadata": {},
   "outputs": [
    {
     "data": {
      "text/html": [
       "<div>\n",
       "<style scoped>\n",
       "    .dataframe tbody tr th:only-of-type {\n",
       "        vertical-align: middle;\n",
       "    }\n",
       "\n",
       "    .dataframe tbody tr th {\n",
       "        vertical-align: top;\n",
       "    }\n",
       "\n",
       "    .dataframe thead th {\n",
       "        text-align: right;\n",
       "    }\n",
       "</style>\n",
       "<table border=\"1\" class=\"dataframe\">\n",
       "  <thead>\n",
       "    <tr style=\"text-align: right;\">\n",
       "      <th></th>\n",
       "      <th>User_ID</th>\n",
       "      <th>Cust_name</th>\n",
       "      <th>Product_ID</th>\n",
       "      <th>Gender</th>\n",
       "      <th>Age Group</th>\n",
       "      <th>Age</th>\n",
       "      <th>Marital_Status</th>\n",
       "      <th>State</th>\n",
       "      <th>Zone</th>\n",
       "      <th>Occupation</th>\n",
       "      <th>Product_Category</th>\n",
       "      <th>Orders</th>\n",
       "      <th>Amount</th>\n",
       "      <th>Status</th>\n",
       "      <th>unnamed1</th>\n",
       "    </tr>\n",
       "  </thead>\n",
       "  <tbody>\n",
       "    <tr>\n",
       "      <th>10329</th>\n",
       "      <td>1001407</td>\n",
       "      <td>Aaron</td>\n",
       "      <td>P00184942</td>\n",
       "      <td>M</td>\n",
       "      <td>36-45</td>\n",
       "      <td>38</td>\n",
       "      <td>0</td>\n",
       "      <td>Karnataka</td>\n",
       "      <td>Southern</td>\n",
       "      <td>Govt</td>\n",
       "      <td>Household items</td>\n",
       "      <td>1</td>\n",
       "      <td>3037.0</td>\n",
       "      <td>NaN</td>\n",
       "      <td>NaN</td>\n",
       "    </tr>\n",
       "    <tr>\n",
       "      <th>1497</th>\n",
       "      <td>1001407</td>\n",
       "      <td>Aaron</td>\n",
       "      <td>P00219942</td>\n",
       "      <td>M</td>\n",
       "      <td>36-45</td>\n",
       "      <td>41</td>\n",
       "      <td>1</td>\n",
       "      <td>Uttarakhand</td>\n",
       "      <td>Central</td>\n",
       "      <td>Hospitality</td>\n",
       "      <td>Games &amp; Toys</td>\n",
       "      <td>4</td>\n",
       "      <td>16239.0</td>\n",
       "      <td>NaN</td>\n",
       "      <td>NaN</td>\n",
       "    </tr>\n",
       "    <tr>\n",
       "      <th>8508</th>\n",
       "      <td>1001407</td>\n",
       "      <td>Aaron</td>\n",
       "      <td>P00125742</td>\n",
       "      <td>M</td>\n",
       "      <td>36-45</td>\n",
       "      <td>37</td>\n",
       "      <td>1</td>\n",
       "      <td>Uttar Pradesh</td>\n",
       "      <td>Central</td>\n",
       "      <td>IT Sector</td>\n",
       "      <td>Clothing &amp; Apparel</td>\n",
       "      <td>3</td>\n",
       "      <td>5414.0</td>\n",
       "      <td>NaN</td>\n",
       "      <td>NaN</td>\n",
       "    </tr>\n",
       "    <tr>\n",
       "      <th>10500</th>\n",
       "      <td>1005406</td>\n",
       "      <td>Aaron</td>\n",
       "      <td>P00174042</td>\n",
       "      <td>M</td>\n",
       "      <td>36-45</td>\n",
       "      <td>39</td>\n",
       "      <td>1</td>\n",
       "      <td>Delhi</td>\n",
       "      <td>Central</td>\n",
       "      <td>Aviation</td>\n",
       "      <td>Household items</td>\n",
       "      <td>1</td>\n",
       "      <td>2383.0</td>\n",
       "      <td>NaN</td>\n",
       "      <td>NaN</td>\n",
       "    </tr>\n",
       "    <tr>\n",
       "      <th>7561</th>\n",
       "      <td>1000420</td>\n",
       "      <td>Aaron</td>\n",
       "      <td>P00136842</td>\n",
       "      <td>F</td>\n",
       "      <td>36-45</td>\n",
       "      <td>45</td>\n",
       "      <td>0</td>\n",
       "      <td>Maharashtra</td>\n",
       "      <td>Western</td>\n",
       "      <td>Banking</td>\n",
       "      <td>Clothing &amp; Apparel</td>\n",
       "      <td>4</td>\n",
       "      <td>6900.0</td>\n",
       "      <td>NaN</td>\n",
       "      <td>NaN</td>\n",
       "    </tr>\n",
       "    <tr>\n",
       "      <th>3334</th>\n",
       "      <td>1001359</td>\n",
       "      <td>Aarushi</td>\n",
       "      <td>P00191642</td>\n",
       "      <td>F</td>\n",
       "      <td>36-45</td>\n",
       "      <td>42</td>\n",
       "      <td>1</td>\n",
       "      <td>Karnataka</td>\n",
       "      <td>Southern</td>\n",
       "      <td>Automobile</td>\n",
       "      <td>Food</td>\n",
       "      <td>1</td>\n",
       "      <td>11878.0</td>\n",
       "      <td>NaN</td>\n",
       "      <td>NaN</td>\n",
       "    </tr>\n",
       "    <tr>\n",
       "      <th>7984</th>\n",
       "      <td>1000646</td>\n",
       "      <td>Aarushi</td>\n",
       "      <td>P00002042</td>\n",
       "      <td>F</td>\n",
       "      <td>36-45</td>\n",
       "      <td>38</td>\n",
       "      <td>1</td>\n",
       "      <td>Rajasthan</td>\n",
       "      <td>Northern</td>\n",
       "      <td>Banking</td>\n",
       "      <td>Electronics &amp; Gadgets</td>\n",
       "      <td>3</td>\n",
       "      <td>6044.0</td>\n",
       "      <td>NaN</td>\n",
       "      <td>NaN</td>\n",
       "    </tr>\n",
       "    <tr>\n",
       "      <th>5772</th>\n",
       "      <td>1000646</td>\n",
       "      <td>Aarushi</td>\n",
       "      <td>P00112142</td>\n",
       "      <td>M</td>\n",
       "      <td>36-45</td>\n",
       "      <td>44</td>\n",
       "      <td>0</td>\n",
       "      <td>Bihar</td>\n",
       "      <td>Eastern</td>\n",
       "      <td>Banking</td>\n",
       "      <td>Electronics &amp; Gadgets</td>\n",
       "      <td>1</td>\n",
       "      <td>8063.0</td>\n",
       "      <td>NaN</td>\n",
       "      <td>NaN</td>\n",
       "    </tr>\n",
       "    <tr>\n",
       "      <th>2375</th>\n",
       "      <td>1002483</td>\n",
       "      <td>Aarushi</td>\n",
       "      <td>P00313442</td>\n",
       "      <td>F</td>\n",
       "      <td>55+</td>\n",
       "      <td>66</td>\n",
       "      <td>0</td>\n",
       "      <td>Uttar Pradesh</td>\n",
       "      <td>Central</td>\n",
       "      <td>Retail</td>\n",
       "      <td>Food</td>\n",
       "      <td>1</td>\n",
       "      <td>15218.0</td>\n",
       "      <td>NaN</td>\n",
       "      <td>NaN</td>\n",
       "    </tr>\n",
       "    <tr>\n",
       "      <th>1952</th>\n",
       "      <td>1000646</td>\n",
       "      <td>Aarushi</td>\n",
       "      <td>P00042142</td>\n",
       "      <td>F</td>\n",
       "      <td>36-45</td>\n",
       "      <td>44</td>\n",
       "      <td>0</td>\n",
       "      <td>Karnataka</td>\n",
       "      <td>Southern</td>\n",
       "      <td>Healthcare</td>\n",
       "      <td>Food</td>\n",
       "      <td>4</td>\n",
       "      <td>15600.0</td>\n",
       "      <td>NaN</td>\n",
       "      <td>NaN</td>\n",
       "    </tr>\n",
       "  </tbody>\n",
       "</table>\n",
       "</div>"
      ],
      "text/plain": [
       "       User_ID Cust_name Product_ID Gender Age Group  Age  Marital_Status  \\\n",
       "10329  1001407     Aaron  P00184942      M     36-45   38               0   \n",
       "1497   1001407     Aaron  P00219942      M     36-45   41               1   \n",
       "8508   1001407     Aaron  P00125742      M     36-45   37               1   \n",
       "10500  1005406     Aaron  P00174042      M     36-45   39               1   \n",
       "7561   1000420     Aaron  P00136842      F     36-45   45               0   \n",
       "3334   1001359   Aarushi  P00191642      F     36-45   42               1   \n",
       "7984   1000646   Aarushi  P00002042      F     36-45   38               1   \n",
       "5772   1000646   Aarushi  P00112142      M     36-45   44               0   \n",
       "2375   1002483   Aarushi  P00313442      F       55+   66               0   \n",
       "1952   1000646   Aarushi  P00042142      F     36-45   44               0   \n",
       "\n",
       "               State      Zone   Occupation       Product_Category  Orders  \\\n",
       "10329      Karnataka  Southern         Govt        Household items       1   \n",
       "1497     Uttarakhand   Central  Hospitality           Games & Toys       4   \n",
       "8508   Uttar Pradesh   Central    IT Sector     Clothing & Apparel       3   \n",
       "10500          Delhi   Central     Aviation        Household items       1   \n",
       "7561     Maharashtra   Western      Banking     Clothing & Apparel       4   \n",
       "3334       Karnataka  Southern   Automobile                   Food       1   \n",
       "7984       Rajasthan  Northern      Banking  Electronics & Gadgets       3   \n",
       "5772           Bihar   Eastern      Banking  Electronics & Gadgets       1   \n",
       "2375   Uttar Pradesh   Central       Retail                   Food       1   \n",
       "1952       Karnataka  Southern   Healthcare                   Food       4   \n",
       "\n",
       "        Amount  Status  unnamed1  \n",
       "10329   3037.0     NaN       NaN  \n",
       "1497   16239.0     NaN       NaN  \n",
       "8508    5414.0     NaN       NaN  \n",
       "10500   2383.0     NaN       NaN  \n",
       "7561    6900.0     NaN       NaN  \n",
       "3334   11878.0     NaN       NaN  \n",
       "7984    6044.0     NaN       NaN  \n",
       "5772    8063.0     NaN       NaN  \n",
       "2375   15218.0     NaN       NaN  \n",
       "1952   15600.0     NaN       NaN  "
      ]
     },
     "execution_count": 31,
     "metadata": {},
     "output_type": "execute_result"
    }
   ],
   "source": [
    "df.head(10)"
   ]
  },
  {
   "cell_type": "code",
   "execution_count": 32,
   "id": "def84b56",
   "metadata": {},
   "outputs": [
    {
     "data": {
      "text/plain": [
       "<bound method DataFrame.info of        User_ID Cust_name Product_ID Gender Age Group  Age  Marital_Status  \\\n",
       "10329  1001407     Aaron  P00184942      M     36-45   38               0   \n",
       "1497   1001407     Aaron  P00219942      M     36-45   41               1   \n",
       "8508   1001407     Aaron  P00125742      M     36-45   37               1   \n",
       "10500  1005406     Aaron  P00174042      M     36-45   39               1   \n",
       "7561   1000420     Aaron  P00136842      F     36-45   45               0   \n",
       "...        ...       ...        ...    ...       ...  ...             ...   \n",
       "9954   1004821    percer  P00047042      M     18-25   21               0   \n",
       "9408   1004090    percer  P00233442      M       55+   63               1   \n",
       "368    1002664    percer  P00090942      M     36-45   45               0   \n",
       "7658   1004090    percer  P00344142      F       55+   88               0   \n",
       "1874   1002664    percer  P00221142      F     36-45   38               0   \n",
       "\n",
       "                  State      Zone    Occupation    Product_Category  Orders  \\\n",
       "10329         Karnataka  Southern          Govt     Household items       1   \n",
       "1497        Uttarakhand   Central   Hospitality        Games & Toys       4   \n",
       "8508      Uttar Pradesh   Central     IT Sector  Clothing & Apparel       3   \n",
       "10500             Delhi   Central      Aviation     Household items       1   \n",
       "7561        Maharashtra   Western       Banking  Clothing & Apparel       4   \n",
       "...                 ...       ...           ...                 ...     ...   \n",
       "9954            Haryana  Northern  Construction  Clothing & Apparel       4   \n",
       "9408      Uttar Pradesh   Central        Lawyer    Footwear & Shoes       3   \n",
       "368           Karnataka  Southern      Aviation    Footwear & Shoes       2   \n",
       "7658            Haryana  Northern  Construction  Clothing & Apparel       2   \n",
       "1874   Himachal Pradesh  Northern       Banking                Food       3   \n",
       "\n",
       "        Amount  Status  unnamed1  \n",
       "10329   3037.0     NaN       NaN  \n",
       "1497   16239.0     NaN       NaN  \n",
       "8508    5414.0     NaN       NaN  \n",
       "10500   2383.0     NaN       NaN  \n",
       "7561    6900.0     NaN       NaN  \n",
       "...        ...     ...       ...  \n",
       "9954    3581.0     NaN       NaN  \n",
       "9408    4144.0     NaN       NaN  \n",
       "368    20224.0     NaN       NaN  \n",
       "7658    6860.0     NaN       NaN  \n",
       "1874   15674.0     NaN       NaN  \n",
       "\n",
       "[11251 rows x 15 columns]>"
      ]
     },
     "execution_count": 32,
     "metadata": {},
     "output_type": "execute_result"
    }
   ],
   "source": [
    "df.info"
   ]
  },
  {
   "cell_type": "code",
   "execution_count": 33,
   "id": "78ba77e4",
   "metadata": {},
   "outputs": [
    {
     "ename": "NameError",
     "evalue": "name 'Amount' is not defined",
     "output_type": "error",
     "traceback": [
      "\u001b[1;31m---------------------------------------------------------------------------\u001b[0m",
      "\u001b[1;31mNameError\u001b[0m                                 Traceback (most recent call last)",
      "Cell \u001b[1;32mIn[33], line 1\u001b[0m\n\u001b[1;32m----> 1\u001b[0m df[Amount]\u001b[38;5;241m.\u001b[39mfillna(\u001b[38;5;241m0\u001b[39m)\n",
      "\u001b[1;31mNameError\u001b[0m: name 'Amount' is not defined"
     ]
    }
   ],
   "source": [
    "df[Amount].fillna(0)"
   ]
  },
  {
   "cell_type": "markdown",
   "id": "9121b22d",
   "metadata": {},
   "source": [
    "# aggregate Function"
   ]
  },
  {
   "cell_type": "code",
   "execution_count": 12,
   "id": "5674f27a",
   "metadata": {},
   "outputs": [],
   "source": [
    "a = np.array([1,99,2,3,10,5,6,7,8,9,33,56,77,8,543,46,5464])"
   ]
  },
  {
   "cell_type": "code",
   "execution_count": 13,
   "id": "62737f35",
   "metadata": {},
   "outputs": [
    {
     "name": "stdout",
     "output_type": "stream",
     "text": [
      "[   1    2    3    5    6    7    8    8    9   10   33   46   56   77\n",
      "   99  543 5464]\n"
     ]
    }
   ],
   "source": [
    "print(np.sort(a))"
   ]
  },
  {
   "cell_type": "code",
   "execution_count": 17,
   "id": "1ae6cde5",
   "metadata": {},
   "outputs": [
    {
     "data": {
      "text/plain": [
       "array([99,  2,  3, 10])"
      ]
     },
     "execution_count": 17,
     "metadata": {},
     "output_type": "execute_result"
    }
   ],
   "source": [
    "a[1:5]"
   ]
  },
  {
   "cell_type": "code",
   "execution_count": 20,
   "id": "d133395e",
   "metadata": {},
   "outputs": [
    {
     "data": {
      "text/plain": [
       "array([5464,   46,  543,    8,   77,   56,   33,    9,    8,    7,    6,\n",
       "          5,   10,    3,    2,   99,    1])"
      ]
     },
     "execution_count": 20,
     "metadata": {},
     "output_type": "execute_result"
    }
   ],
   "source": [
    "a[::-1]"
   ]
  },
  {
   "cell_type": "code",
   "execution_count": 23,
   "id": "7d1435da",
   "metadata": {},
   "outputs": [],
   "source": [
    "b=np.array([100,200,300,400])"
   ]
  },
  {
   "cell_type": "code",
   "execution_count": 24,
   "id": "0bd91899",
   "metadata": {},
   "outputs": [
    {
     "data": {
      "text/plain": [
       "array([   1,   99,    2,    3,   10,    5,    6,    7,    8,    9,   33,\n",
       "         56,   77,    8,  543,   46, 5464,  100,  200,  300,  400])"
      ]
     },
     "execution_count": 24,
     "metadata": {},
     "output_type": "execute_result"
    }
   ],
   "source": [
    "np.concatenate((a,b),axis = 0)"
   ]
  },
  {
   "cell_type": "code",
   "execution_count": 26,
   "id": "25f6885c",
   "metadata": {},
   "outputs": [
    {
     "ename": "ValueError",
     "evalue": "array split does not result in an equal division",
     "output_type": "error",
     "traceback": [
      "\u001b[1;31m---------------------------------------------------------------------------\u001b[0m",
      "\u001b[1;31mValueError\u001b[0m                                Traceback (most recent call last)",
      "Cell \u001b[1;32mIn[26], line 1\u001b[0m\n\u001b[1;32m----> 1\u001b[0m np\u001b[38;5;241m.\u001b[39mhsplit(a,\u001b[38;5;241m2\u001b[39m)\n",
      "File \u001b[1;32m<__array_function__ internals>:200\u001b[0m, in \u001b[0;36mhsplit\u001b[1;34m(*args, **kwargs)\u001b[0m\n",
      "File \u001b[1;32m~\\anaconda3\\Lib\\site-packages\\numpy\\lib\\shape_base.py:948\u001b[0m, in \u001b[0;36mhsplit\u001b[1;34m(ary, indices_or_sections)\u001b[0m\n\u001b[0;32m    946\u001b[0m     \u001b[38;5;28;01mreturn\u001b[39;00m split(ary, indices_or_sections, \u001b[38;5;241m1\u001b[39m)\n\u001b[0;32m    947\u001b[0m \u001b[38;5;28;01melse\u001b[39;00m:\n\u001b[1;32m--> 948\u001b[0m     \u001b[38;5;28;01mreturn\u001b[39;00m split(ary, indices_or_sections, \u001b[38;5;241m0\u001b[39m)\n",
      "File \u001b[1;32m<__array_function__ internals>:200\u001b[0m, in \u001b[0;36msplit\u001b[1;34m(*args, **kwargs)\u001b[0m\n",
      "File \u001b[1;32m~\\anaconda3\\Lib\\site-packages\\numpy\\lib\\shape_base.py:872\u001b[0m, in \u001b[0;36msplit\u001b[1;34m(ary, indices_or_sections, axis)\u001b[0m\n\u001b[0;32m    870\u001b[0m     N \u001b[38;5;241m=\u001b[39m ary\u001b[38;5;241m.\u001b[39mshape[axis]\n\u001b[0;32m    871\u001b[0m     \u001b[38;5;28;01mif\u001b[39;00m N \u001b[38;5;241m%\u001b[39m sections:\n\u001b[1;32m--> 872\u001b[0m         \u001b[38;5;28;01mraise\u001b[39;00m \u001b[38;5;167;01mValueError\u001b[39;00m(\n\u001b[0;32m    873\u001b[0m             \u001b[38;5;124m'\u001b[39m\u001b[38;5;124marray split does not result in an equal division\u001b[39m\u001b[38;5;124m'\u001b[39m) \u001b[38;5;28;01mfrom\u001b[39;00m \u001b[38;5;28;01mNone\u001b[39;00m\n\u001b[0;32m    874\u001b[0m \u001b[38;5;28;01mreturn\u001b[39;00m array_split(ary, indices_or_sections, axis)\n",
      "\u001b[1;31mValueError\u001b[0m: array split does not result in an equal division"
     ]
    }
   ],
   "source": [
    "np.hsplit(a,2)"
   ]
  },
  {
   "cell_type": "code",
   "execution_count": null,
   "id": "b6d58d12",
   "metadata": {},
   "outputs": [],
   "source": []
  },
  {
   "cell_type": "markdown",
   "id": "c14a16ab",
   "metadata": {},
   "source": [
    "### Conclusion\n",
    "\n",
    "Through this hands-on notebook, we explored core features of the Pandas library. These operations form the foundation for more advanced data analysis and machine learning workflows in Python."
   ]
  }
 ],
 "metadata": {
  "kernelspec": {
   "display_name": "Python 3 (ipykernel)",
   "language": "python",
   "name": "python3"
  },
  "language_info": {
   "codemirror_mode": {
    "name": "ipython",
    "version": 3
   },
   "file_extension": ".py",
   "mimetype": "text/x-python",
   "name": "python",
   "nbconvert_exporter": "python",
   "pygments_lexer": "ipython3",
   "version": "3.11.3"
  }
 },
 "nbformat": 4,
 "nbformat_minor": 5
}
